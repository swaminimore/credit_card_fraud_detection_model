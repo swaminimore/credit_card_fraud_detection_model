{
 "cells": [
  {
   "cell_type": "code",
   "execution_count": null,
   "id": "d266088f-6b16-4618-b936-95c5751bec62",
   "metadata": {},
   "outputs": [],
   "source": [
    "import pandas as pd\n",
    "import joblib\n",
    "from src.preprocessing import preprocess_data\n",
    "\n",
    "df = pd.read_csv('data/fraudTest.csv')\n",
    "X_test, y_test = preprocess_data(df)\n",
    "\n",
    "model = joblib.load('outputs/random_forest_fraud_model.pkl')\n",
    "y_pred = model.predict(X_test)\n",
    "\n",
    "df['prediction'] = y_pred\n",
    "df[['prediction']].to_csv('outputs/predictions.csv', index=False)\n",
    "print(\"Predictions saved.\")"
   ]
  }
 ],
 "metadata": {
  "kernelspec": {
   "display_name": "Python 3 (ipykernel)",
   "language": "python",
   "name": "python3"
  },
  "language_info": {
   "codemirror_mode": {
    "name": "ipython",
    "version": 3
   },
   "file_extension": ".py",
   "mimetype": "text/x-python",
   "name": "python",
   "nbconvert_exporter": "python",
   "pygments_lexer": "ipython3",
   "version": "3.13.0"
  }
 },
 "nbformat": 4,
 "nbformat_minor": 5
}
